{
 "cells": [
  {
   "cell_type": "code",
   "execution_count": null,
   "id": "1682904e",
   "metadata": {
    "scrolled": true
   },
   "outputs": [],
   "source": [
    "import yfinance as yf\n",
    "import pandas as pd\n",
    "from datetime import datetime\n",
    "import cryptocompy\n",
    "\n",
    "\n",
    "# Define the ticker symbol for the Dow Jones Industrial Average\n",
    "dji = yf.Ticker(\"^DJI\")\n",
    "\n",
    "# Retrieve the historical price data\n",
    "dji_data = dji.history(period=\"max\", interval=\"1mo\")\n",
    "\n",
    "# Filter the data with Pandas for the desired period (January 2009, when crypto was introduced to current day)\n",
    "start_date = \"2009-01-01\"\n",
    "dji_data = dji_data.loc[start_date:]\n",
    "\n",
    "# Create a new dataframe with only the 'Date' and 'Close' columns and reset the index\n",
    "dji_data_close = pd.DataFrame(dji_data['Close']).reset_index()\n",
    "\n",
    "# Format the 'Date' column to remove the timestamp\n",
    "dji_data_close['Date'] = dji_data_close['Date'].dt.strftime('%Y-%m-%d')\n",
    "\n",
    "dji_data_close\n"
   ]
  },
  {
   "cell_type": "code",
   "execution_count": null,
   "id": "5c698d3b",
   "metadata": {},
   "outputs": [],
   "source": [
    "# Import Dow Jones Industrial Avg data to CSV \n",
    "dji_data_close.to_csv('dji_data_close.csv')"
   ]
  },
  {
   "cell_type": "code",
   "execution_count": null,
   "id": "7549db24",
   "metadata": {},
   "outputs": [],
   "source": [
    "\n",
    "# Define the symbol for the S&P Dow Jones Cryptocurrency Indices\n",
    "symbol = \"SPDJI\"\n",
    "\n",
    "# Define the start and end dates for the price data\n",
    "start_date = datetime(2009, 1, 1)\n",
    "end_date = datetime.now()\n",
    "\n",
    "# Retrieve the monthly closing price data\n",
    "df = pd.DataFrame(columns=[\"Date\", \"Close\"])\n",
    "while start_date <= end_date:\n",
    "    date_str = start_date.strftime('%Y-%m-%d')\n",
    "    price_data = cryptocompy.get_price(symbol, \"USD\", date_str)\n",
    "    if price_data:\n",
    "        close_price = price_data[symbol][\"USD\"][\"close\"]\n",
    "        df = df.append({\"Date\": date_str, \"Close\": close_price}, ignore_index=True)\n",
    "    start_date = start_date.replace(day=28) + pd.Timedelta(days=4)  # move to the next month\n",
    "\n",
    "df"
   ]
  },
  {
   "cell_type": "code",
   "execution_count": null,
   "id": "d3589adf",
   "metadata": {},
   "outputs": [],
   "source": [
    "# Save the data to a CSV file\n",
    "df.to_csv(\"sp_dow_jones_cryptocurrency_indices_close.csv\", index=False)"
   ]
  },
  {
   "cell_type": "code",
   "execution_count": null,
   "id": "c95d7b10",
   "metadata": {},
   "outputs": [],
   "source": []
  }
 ],
 "metadata": {
  "kernelspec": {
   "display_name": "Python 3 (ipykernel)",
   "language": "python",
   "name": "python3"
  },
  "language_info": {
   "codemirror_mode": {
    "name": "ipython",
    "version": 3
   },
   "file_extension": ".py",
   "mimetype": "text/x-python",
   "name": "python",
   "nbconvert_exporter": "python",
   "pygments_lexer": "ipython3",
   "version": "3.9.12"
  }
 },
 "nbformat": 4,
 "nbformat_minor": 5
}
