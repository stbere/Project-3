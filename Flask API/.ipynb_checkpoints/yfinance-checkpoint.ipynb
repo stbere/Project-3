{
 "cells": [
  {
   "cell_type": "code",
   "execution_count": 1,
   "id": "55723ce2",
   "metadata": {},
   "outputs": [],
   "source": [
    "import twint\n"
   ]
  },
  {
   "cell_type": "code",
   "execution_count": null,
   "id": "30e742ec",
   "metadata": {},
   "outputs": [],
   "source": [
    "# Set the search query for cryptocurrencies\n",
    "search_query = \"dogecoin OR bitcoin OR ethereum OR \""
   ]
  },
  {
   "cell_type": "code",
   "execution_count": null,
   "id": "bc6088d9",
   "metadata": {},
   "outputs": [],
   "source": []
  }
 ],
 "metadata": {
  "kernelspec": {
   "display_name": "Python 3 (ipykernel)",
   "language": "python",
   "name": "python3"
  },
  "language_info": {
   "codemirror_mode": {
    "name": "ipython",
    "version": 3
   },
   "file_extension": ".py",
   "mimetype": "text/x-python",
   "name": "python",
   "nbconvert_exporter": "python",
   "pygments_lexer": "ipython3",
   "version": "3.9.12"
  }
 },
 "nbformat": 4,
 "nbformat_minor": 5
}
