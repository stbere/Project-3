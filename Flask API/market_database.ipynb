{
 "cells": [
  {
   "cell_type": "code",
   "execution_count": null,
   "id": "b886a438",
   "metadata": {},
   "outputs": [],
   "source": [
    "import sqlite3\n",
    "import csv"
   ]
  },
  {
   "cell_type": "code",
   "execution_count": null,
   "id": "ab257c12",
   "metadata": {},
   "outputs": [],
   "source": [
    "# Create a connection to the database\n",
    "conn = sqlite3.connect('market.db')\n",
    "\n",
    "# Create a cursor object\n",
    "c = conn.cursor()"
   ]
  },
  {
   "cell_type": "code",
   "execution_count": null,
   "id": "237eae25",
   "metadata": {},
   "outputs": [],
   "source": [
    "# Create a table for dji_data_close\n",
    "c.execute('''CREATE TABLE dji_data_close\n",
    "             (Date DATE, Close REAL)''')\n",
    "\n",
    "# Open the csv file and insert data into the table\n",
    "with open('dji_data_close.csv', 'r') as f:\n",
    "    reader = csv.reader(f)\n",
    "    next(reader)  # Skip the header row\n",
    "    for row in reader:\n",
    "        c.execute('INSERT INTO dji_data_close (Date, Close) VALUES (?, ?)', (row[0], row[1]))"
   ]
  },
  {
   "cell_type": "code",
   "execution_count": null,
   "id": "82f9ed74",
   "metadata": {},
   "outputs": [],
   "source": [
    "# Create a table for sp_crypto_data\n",
    "c.execute('''CREATE TABLE sp_crypto_data\n",
    "             (Date DATE, Value REAL)''')\n",
    "\n",
    "# Open the csv file and insert data into the table\n",
    "with open('SP_Crypto_LargeCap.csv', 'r') as f:\n",
    "    reader = csv.reader(f)\n",
    "    next(reader)  # Skip the header row\n",
    "    for row in reader:\n",
    "        c.execute('INSERT INTO sp_crypto_data (Date, Value) VALUES (?, ?)', (row[0], row[1]))"
   ]
  },
  {
   "cell_type": "code",
   "execution_count": null,
   "id": "ed29e9a1",
   "metadata": {},
   "outputs": [],
   "source": [
    "# Create a table for bitcoin\n",
    "c.execute('''CREATE TABLE bitcoin\n",
    "             (Date DATE, Price REAL)''')\n",
    "\n",
    "# Open the csv file and insert data into the table\n",
    "with open('bitcoin.csv', 'r') as f:\n",
    "    reader = csv.reader(f)\n",
    "    next(reader)  # Skip the header row\n",
    "    for row in reader:\n",
    "        c.execute('INSERT INTO bitcoin (Date, Price) VALUES (?, ?)', (row[0], row[1]))"
   ]
  },
  {
   "cell_type": "code",
   "execution_count": null,
   "id": "1abe1bb3",
   "metadata": {},
   "outputs": [],
   "source": [
    "# Create a table for ethereum\n",
    "c.execute('''CREATE TABLE ethereum\n",
    "             (Date DATE, Price REAL)''')\n",
    "\n",
    "# Open the csv file and insert data into the table\n",
    "with open('ethereum.csv', 'r') as f:\n",
    "    reader = csv.reader(f)\n",
    "    next(reader)  # Skip the header row\n",
    "    for row in reader:\n",
    "        c.execute('INSERT INTO ethereum (Date, Price) VALUES (?, ?)', (row[0], row[1]))"
   ]
  },
  {
   "cell_type": "code",
   "execution_count": null,
   "id": "2bf058dd",
   "metadata": {},
   "outputs": [],
   "source": [
    "# Create a table for dji_vol\n",
    "c.execute('''CREATE TABLE dji_vol\n",
    "             (Date DATE, Close REAL)''')\n",
    "\n",
    "# Open the csv file and insert data into the table\n",
    "with open('dji_volatility.csv', 'r') as f:\n",
    "    reader = csv.reader(f)\n",
    "    next(reader)  # Skip the header row\n",
    "    for row in reader:\n",
    "        c.execute('INSERT INTO dji_vol (Date, Close) VALUES (?, ?)', (row[0], row[1]))"
   ]
  },
  {
   "cell_type": "code",
   "execution_count": null,
   "id": "9cc0926f",
   "metadata": {},
   "outputs": [],
   "source": [
    "# Create a table for crypto_vol\n",
    "c.execute('''CREATE TABLE crypto_vol\n",
    "             (Date DATE, Value REAL)''')\n",
    "\n",
    "# Open the csv file and insert data into the table\n",
    "with open('crypto_volatility.csv', 'r') as f:\n",
    "    reader = csv.reader(f)\n",
    "    next(reader)  # Skip the header row\n",
    "    for row in reader:\n",
    "        c.execute('INSERT INTO crypto_vol (Date, Value) VALUES (?, ?)', (row[0], row[1]))"
   ]
  },
  {
   "cell_type": "code",
   "execution_count": null,
   "id": "cb1c010b",
   "metadata": {},
   "outputs": [],
   "source": [
    "# Create a table for bitcoin_vol\n",
    "c.execute('''CREATE TABLE bitcoin_vol\n",
    "             (Date DATE, Price REAL)''')\n",
    "\n",
    "# insert data from bitcoin_vol.csv into the table\n",
    "with open('bitcoin_volatility.csv', 'r') as f:\n",
    "    reader = csv.reader(f)\n",
    "    next(reader)  # skip the header row\n",
    "    for row in reader:\n",
    "        c.execute('INSERT INTO bitcoin_vol (Date, Price) VALUES (?, ?)', (row[0], row[1]))"
   ]
  },
  {
   "cell_type": "code",
   "execution_count": null,
   "id": "7b146106",
   "metadata": {},
   "outputs": [],
   "source": [
    "# create table for ethereum_vol\n",
    "c.execute('''CREATE TABLE ethereum_vol\n",
    "             (Date DATE, Price REAL)''')\n",
    "\n",
    "# insert data from ethereum_volatility.csv into the table\n",
    "with open('ethereum_volatility.csv', 'r') as f:\n",
    "    reader = csv.reader(f)\n",
    "    next(reader)  # skip the header row\n",
    "    for row in reader:\n",
    "        c.execute('INSERT INTO ethereum_vol (Date, Price) VALUES (?, ?)', (row[0], row[1]))"
   ]
  },
  {
   "cell_type": "code",
   "execution_count": 1,
   "id": "6f6eb816",
   "metadata": {},
   "outputs": [],
   "source": [
    "# commit the changes and close the connection\n",
    "conn.commit()\n",
    "conn.close()"
   ]
  },
  {
   "cell_type": "code",
   "execution_count": null,
   "id": "5e8d21f4",
   "metadata": {},
   "outputs": [],
   "source": []
  }
 ],
 "metadata": {
  "kernelspec": {
   "display_name": "Python 3 (ipykernel)",
   "language": "python",
   "name": "python3"
  },
  "language_info": {
   "codemirror_mode": {
    "name": "ipython",
    "version": 3
   },
   "file_extension": ".py",
   "mimetype": "text/x-python",
   "name": "python",
   "nbconvert_exporter": "python",
   "pygments_lexer": "ipython3",
   "version": "3.9.12"
  }
 },
 "nbformat": 4,
 "nbformat_minor": 5
}
